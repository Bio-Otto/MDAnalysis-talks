{
 "cells": [
  {
   "cell_type": "markdown",
   "id": "impressed-dream",
   "metadata": {
    "slideshow": {
     "slide_type": "slide"
    }
   },
   "source": [
    "# MDAnalysis: An interoperable library for simulation analysis"
   ]
  },
  {
   "cell_type": "markdown",
   "id": "legislative-thanksgiving",
   "metadata": {
    "slideshow": {
     "slide_type": "-"
    }
   },
   "source": [
    "<center>Irfan Alibay, The University of Oxford</center>"
   ]
  },
  {
   "cell_type": "markdown",
   "id": "blocked-translator",
   "metadata": {
    "slideshow": {
     "slide_type": "slide"
    }
   },
   "source": [
    "## Acknowledgements"
   ]
  },
  {
   "cell_type": "markdown",
   "id": "framed-ownership",
   "metadata": {
    "cell_style": "split",
    "slideshow": {
     "slide_type": "-"
    }
   },
   "source": [
    "* MDAnalysis is community driven project with code contributions from 122 authors, including 13 core developers, over a 16 year period (as of January 2021)\n",
    "\n",
    "* Our user base which continues to report bugs and request features\n",
    "\n",
    "* NumFOCUS our fiscal sponsor\n",
    "\n",
    "* Various funding agencies over the years"
   ]
  },
  {
   "cell_type": "markdown",
   "id": "descending-harris",
   "metadata": {
    "cell_style": "split",
    "slideshow": {
     "slide_type": "-"
    }
   },
   "source": [
    "<center><img src=\"imgs/numfocus-sponsored.png\" alt=\"numfocus\" style=\"width: 200px;\"/></center>\n",
    "\n",
    "<center><img src=\"imgs/gsoc2016-sun-373x373.png\" alt=\"gsoc\" style=\"width: 200px;\"/></center>\n",
    "\n",
    "<center><img src=\"imgs/nsf.jpg\" alt=\"nsf\" style=\"width: 200px;\"/></center>"
   ]
  },
  {
   "cell_type": "markdown",
   "id": "dynamic-programmer",
   "metadata": {
    "slideshow": {
     "slide_type": "slide"
    }
   },
   "source": [
    "## Simulation analysis workflow"
   ]
  },
  {
   "cell_type": "markdown",
   "id": "prepared-interference",
   "metadata": {},
   "source": [
    "<center><img src=\"imgs/Analysis-workflow1.png\" alt=\"github\" style=\"width: 1500px;\"/></center>"
   ]
  },
  {
   "cell_type": "markdown",
   "id": "middle-joyce",
   "metadata": {
    "slideshow": {
     "slide_type": "slide"
    }
   },
   "source": [
    "## Simulation analysis workflow - towards a data centric future"
   ]
  },
  {
   "cell_type": "markdown",
   "id": "voluntary-intent",
   "metadata": {},
   "source": [
    "<center><img src=\"imgs/Analysis-workflow2.png\" alt=\"github\" style=\"width: 1500px;\"/></center>"
   ]
  },
  {
   "cell_type": "markdown",
   "id": "capable-gamma",
   "metadata": {
    "slideshow": {
     "slide_type": "slide"
    }
   },
   "source": [
    "## Simulation analysis workflow - MDAnalysis is not unique"
   ]
  },
  {
   "cell_type": "markdown",
   "id": "least-steps",
   "metadata": {},
   "source": [
    "<center><img src=\"imgs/Analysis-workflow3.png\" alt=\"github\" style=\"width: 1500px;\"/></center>"
   ]
  },
  {
   "cell_type": "markdown",
   "id": "periodic-citizenship",
   "metadata": {
    "slideshow": {
     "slide_type": "slide"
    }
   },
   "source": [
    "## Why MDAnalysis?"
   ]
  },
  {
   "cell_type": "markdown",
   "id": "coordinated-contrast",
   "metadata": {},
   "source": [
    "* MDAnalysis is not the fastest or the most feature complete tool\n",
    "\n",
    "* Offers some unique advantage\n",
    "  * Transparent & platform independent\n",
    "  * Extensive trajectory and topology format support\n",
    "  * Focus on flexibility and extensibility\n",
    "    * Python backend is simple and intuitive\n",
    "  * Provide tools to build tools\n",
    "  * Large active user and developer base\n",
    "  * Plays well with other tools"
   ]
  },
  {
   "cell_type": "markdown",
   "id": "blind-replacement",
   "metadata": {
    "slideshow": {
     "slide_type": "slide"
    }
   },
   "source": [
    "## MDAnalysis overview"
   ]
  },
  {
   "cell_type": "markdown",
   "id": "welsh-perception",
   "metadata": {
    "cell_style": "split"
   },
   "source": [
    "* Python w/ C library backend\n",
    "  * NumPy centric datastructures\n",
    "  * python 2.7, 3.5-3.8\n",
    "* ~ 100k lines of code\n",
    "* Extensively tested\n",
    "  * ~ 93% line coverage"
   ]
  },
  {
   "cell_type": "markdown",
   "id": "portuguese-interpretation",
   "metadata": {
    "cell_style": "split"
   },
   "source": [
    "<center><img src=\"imgs/MDA-overview.png\" alt=\"MDA-overview\" style=\"width: 700px;\"/></center>"
   ]
  },
  {
   "cell_type": "markdown",
   "id": "annoying-grenada",
   "metadata": {
    "slideshow": {
     "slide_type": "slide"
    }
   },
   "source": [
    "## MDAnalysis - topology and trajectory readers"
   ]
  },
  {
   "cell_type": "markdown",
   "id": "internal-argument",
   "metadata": {
    "cell_style": "split"
   },
   "source": [
    "* Built-in topology & trajectory readers/writers\n",
    "  * 27 topology (read only)\n",
    "  * 23 structure formats (read/write)\n",
    "  \n",
    "* Extra formats via chemfiles interface"
   ]
  },
  {
   "cell_type": "markdown",
   "id": "southern-differential",
   "metadata": {
    "cell_style": "split"
   },
   "source": [
    "<center><img src=\"imgs/readers-writers.png\" alt=\"MDA-overview\" style=\"width: 700px;\"/></center>"
   ]
  },
  {
   "cell_type": "markdown",
   "id": "handled-superior",
   "metadata": {
    "slideshow": {
     "slide_type": "slide"
    }
   },
   "source": [
    "## MDAnalysis: basic data structure (Universe)"
   ]
  },
  {
   "cell_type": "code",
   "execution_count": 13,
   "id": "tracked-preview",
   "metadata": {
    "cell_style": "split"
   },
   "outputs": [
    {
     "name": "stdout",
     "output_type": "stream",
     "text": [
      "<Universe with 1398 atoms>\n",
      "<TopologyGroup containing 1397 bonds>\n",
      "<TopologyGroup containing 7 angles>\n",
      "<TopologyGroup containing 3 dihedrals>\n",
      "['H1' 'CH3' 'H2' ... 'O' 'H1' 'H2']\n"
     ]
    }
   ],
   "source": [
    "import MDAnalysis as mda\n",
    "from MDAnalysisTests.datafiles import (PRM_NCBOX,\n",
    "                                       TRJ_NCBOX)\n",
    "\n",
    "u = mda.Universe(PRM_NCBOX, TRJ_NCBOX)\n",
    "\n",
    "print(u)\n",
    "print(u.bonds)\n",
    "print(u.angles)\n",
    "print(u.dihedrals)\n",
    "print(u.atoms.names)"
   ]
  },
  {
   "cell_type": "markdown",
   "id": "solved-smart",
   "metadata": {
    "cell_style": "split"
   },
   "source": [
    "<center><img src=\"imgs/MDA-workflow-universe.png\" alt=\"MDA-overview\" style=\"width: 700px;\"/></center>"
   ]
  },
  {
   "cell_type": "markdown",
   "id": "opponent-tablet",
   "metadata": {
    "slideshow": {
     "slide_type": "slide"
    }
   },
   "source": [
    "## MDAnalysis: Universes of AtomGroups"
   ]
  },
  {
   "cell_type": "code",
   "execution_count": 2,
   "id": "tender-unknown",
   "metadata": {
    "cell_style": "split",
    "slideshow": {
     "slide_type": "-"
    }
   },
   "outputs": [
    {
     "name": "stdout",
     "output_type": "stream",
     "text": [
      "<AtomGroup [<Atom 1: H1 of type HC of resname ACE, resid 1 and segid SYSTEM>, <Atom 2: CH3 of type CT of resname ACE, resid 1 and segid SYSTEM>, <Atom 3: H2 of type HC of resname ACE, resid 1 and segid SYSTEM>, ..., <Atom 1396: O of type OW of resname WAT, resid 465 and segid SYSTEM>, <Atom 1397: H1 of type HW of resname WAT, resid 465 and segid SYSTEM>, <Atom 1398: H2 of type HW of resname WAT, resid 465 and segid SYSTEM>]>\n"
     ]
    }
   ],
   "source": [
    "print(u.atoms)"
   ]
  },
  {
   "cell_type": "markdown",
   "id": "listed-eight",
   "metadata": {
    "cell_style": "split"
   },
   "source": [
    "<center><img src=\"imgs/MDA-workflow-universe.png\" alt=\"MDA-overview\" style=\"width: 700px;\"/></center>"
   ]
  },
  {
   "cell_type": "markdown",
   "id": "waiting-month",
   "metadata": {
    "slideshow": {
     "slide_type": "slide"
    }
   },
   "source": [
    "## MDAnalysis: Universes of AtomGroups"
   ]
  },
  {
   "cell_type": "code",
   "execution_count": 3,
   "id": "crazy-survival",
   "metadata": {
    "cell_style": "split",
    "scrolled": true,
    "slideshow": {
     "slide_type": "-"
    }
   },
   "outputs": [
    {
     "name": "stdout",
     "output_type": "stream",
     "text": [
      "<AtomGroup [<Atom 1: H1 of type HC of resname ACE, resid 1 and segid SYSTEM>, <Atom 2: CH3 of type CT of resname ACE, resid 1 and segid SYSTEM>, <Atom 3: H2 of type HC of resname ACE, resid 1 and segid SYSTEM>, <Atom 4: H3 of type HC of resname ACE, resid 1 and segid SYSTEM>, <Atom 5: C of type C of resname ACE, resid 1 and segid SYSTEM>, <Atom 6: O of type O of resname ACE, resid 1 and segid SYSTEM>]>\n",
      "\n",
      "\n",
      "<AtomGroup [<Atom 7: O of type OW of resname WAT, resid 2 and segid SYSTEM>, <Atom 8: H1 of type HW of resname WAT, resid 2 and segid SYSTEM>, <Atom 9: H2 of type HW of resname WAT, resid 2 and segid SYSTEM>, ..., <Atom 1396: O of type OW of resname WAT, resid 465 and segid SYSTEM>, <Atom 1397: H1 of type HW of resname WAT, resid 465 and segid SYSTEM>, <Atom 1398: H2 of type HW of resname WAT, resid 465 and segid SYSTEM>]>\n"
     ]
    }
   ],
   "source": [
    "# string based selection\n",
    "\n",
    "protein = u.select_atoms('protein')\n",
    "\n",
    "print(protein) # ACE atoms\n",
    "\n",
    "print('\\n')\n",
    "\n",
    "water = u.select_atoms('resname WAT')\n",
    "print(water)"
   ]
  },
  {
   "cell_type": "markdown",
   "id": "approved-booking",
   "metadata": {
    "cell_style": "split"
   },
   "source": [
    "<center><img src=\"imgs/MDA-workflow-universe.png\" alt=\"MDA-overview\" style=\"width: 700px;\"/></center>"
   ]
  },
  {
   "cell_type": "markdown",
   "id": "subject-season",
   "metadata": {
    "slideshow": {
     "slide_type": "slide"
    }
   },
   "source": [
    "## NumPy datastructures"
   ]
  },
  {
   "cell_type": "code",
   "execution_count": 4,
   "id": "further-compensation",
   "metadata": {
    "cell_style": "split"
   },
   "outputs": [
    {
     "name": "stdout",
     "output_type": "stream",
     "text": [
      "[[15.249873  12.578178  15.191731 ]\n",
      " [14.925511  13.58888   14.944009 ]\n",
      " [15.285703  14.3409605 15.645962 ]\n",
      " [13.840843  13.6347475 15.041435 ]\n",
      " [15.2940445 14.233009  13.608262 ]\n",
      " [14.439755  14.561243  12.855946 ]]\n"
     ]
    }
   ],
   "source": [
    "print(protein.atoms.positions) # XYZ coordinate array"
   ]
  },
  {
   "cell_type": "code",
   "execution_count": 5,
   "id": "focal-forestry",
   "metadata": {
    "cell_style": "split",
    "scrolled": true
   },
   "outputs": [
    {
     "data": {
      "text/plain": [
       "array([[ 3.59128952e+01,  7.54111338e+00, -6.27739983e+01],\n",
       "       [-9.03527908e+01,  1.63559509e+02,  2.74803581e+01],\n",
       "       [ 1.82548599e+01, -5.07735252e+01,  1.87340508e+01],\n",
       "       [ 5.55083938e-02, -3.06680317e+01, -1.42093458e+01],\n",
       "       [ 1.53188171e+02, -1.51061050e+02,  1.30672211e+02],\n",
       "       [-1.23743095e+02,  6.80953064e+01, -9.72541275e+01]], dtype=float32)"
      ]
     },
     "execution_count": 5,
     "metadata": {},
     "output_type": "execute_result"
    }
   ],
   "source": [
    "protein.atoms.forces"
   ]
  },
  {
   "cell_type": "markdown",
   "id": "elegant-diameter",
   "metadata": {
    "slideshow": {
     "slide_type": "slide"
    }
   },
   "source": [
    "## Trajectory access"
   ]
  },
  {
   "cell_type": "code",
   "execution_count": 6,
   "id": "color-harvey",
   "metadata": {
    "cell_style": "split"
   },
   "outputs": [
    {
     "name": "stdout",
     "output_type": "stream",
     "text": [
      "number of frames: 10\n",
      "\n",
      "[15.249873 12.578178 15.191731]\n",
      "[13.802418 13.771645 13.351839]\n",
      "[16.774944 14.357913 13.739776]\n",
      "[16.029173 12.944326 15.759931]\n",
      "[14.890728 13.706805 16.154305]\n",
      "[15.905292 13.544387 16.146898]\n",
      "[15.79226   12.6949625 15.421089 ]\n",
      "[16.370102 16.812826 15.066112]\n",
      "[14.799454 15.214347 14.714555]\n",
      "[14.392319 16.360231 14.511796]\n"
     ]
    }
   ],
   "source": [
    "print(f\"number of frames: {u.trajectory.n_frames}\\n\")\n",
    "\n",
    "for ts in u.trajectory:\n",
    "    print(u.atoms[0].position)"
   ]
  },
  {
   "cell_type": "markdown",
   "id": "invisible-auction",
   "metadata": {
    "cell_style": "split"
   },
   "source": [
    "* Universe values get updated with frame information as you traverse through a trajectory\n",
    "\n",
    "* Updates coordinates/velocities/forces\n",
    "\n",
    "* Random access is possible\n",
    "\n",
    "* Can't do grand canonical!"
   ]
  },
  {
   "cell_type": "markdown",
   "id": "first-connecticut",
   "metadata": {
    "slideshow": {
     "slide_type": "slide"
    }
   },
   "source": [
    "## Analysis: RMSF example"
   ]
  },
  {
   "cell_type": "markdown",
   "id": "sound-positive",
   "metadata": {
    "cell_style": "split"
   },
   "source": [
    "* Root mean square flucturation measures local flexibility in amino acids\n",
    "\n",
    "<center><img src=\"imgs/rmsf-eq.png\" alt=\"MDA-overview\" style=\"width: 300px;\"/></center>\n"
   ]
  },
  {
   "cell_type": "markdown",
   "id": "convinced-india",
   "metadata": {
    "cell_style": "split"
   },
   "source": [
    "<center><img src=\"imgs/MDA-workflow-analysis.png\" alt=\"MDA-overview\" style=\"width: 700px;\"/></center>"
   ]
  },
  {
   "cell_type": "markdown",
   "id": "historical-exhaust",
   "metadata": {
    "slideshow": {
     "slide_type": "slide"
    }
   },
   "source": [
    "## Analysis: RMSF example"
   ]
  },
  {
   "cell_type": "markdown",
   "id": "tough-desert",
   "metadata": {
    "cell_style": "split"
   },
   "source": [
    "* Root mean square flucturation measures local flexibility in amino acids\n",
    "\n",
    "<center><img src=\"imgs/rmsf-eq.png\" alt=\"MDA-overview\" style=\"width: 300px;\"/></center>\n",
    "\n",
    "* Do RMSF of atoms in ACE residue"
   ]
  },
  {
   "cell_type": "code",
   "execution_count": 7,
   "id": "hearing-addition",
   "metadata": {
    "cell_style": "split"
   },
   "outputs": [
    {
     "data": {
      "text/plain": [
       "[<matplotlib.lines.Line2D at 0x7efe756cc950>]"
      ]
     },
     "execution_count": 7,
     "metadata": {},
     "output_type": "execute_result"
    },
    {
     "data": {
      "image/png": "[encoded data removed]",
      "text/plain": [
       "<Figure size 432x288 with 1 Axes>"
      ]
     },
     "metadata": {
      "needs_background": "light"
     },
     "output_type": "display_data"
    }
   ],
   "source": [
    "import numpy as np # to store data\n",
    "import matplotlib.pyplot as plt # to plot the data\n",
    "\n",
    "ace = u.select_atoms('resname ACE')\n",
    "means = np.zeros((len(ace), 3))\n",
    "sumsq = np.zeros_like(means)\n",
    "\n",
    "for k, ts in enumerate(u.trajectory):\n",
    "    sumsq += (k/(k+1)) * (ace.positions - means)**2\n",
    "    means[:] = (k*means + ace.positions) / (k+1)\n",
    "    \n",
    "rmsf = np.sqrt(sumsq.sum(axis=1)/(k+1))\n",
    "\n",
    "%matplotlib inline\n",
    "plt.plot(ace.atoms.ids, rmsf)"
   ]
  },
  {
   "cell_type": "markdown",
   "id": "christian-prisoner",
   "metadata": {
    "slideshow": {
     "slide_type": "slide"
    }
   },
   "source": [
    "## Analysis: RMSF example"
   ]
  },
  {
   "cell_type": "markdown",
   "id": "fewer-acoustic",
   "metadata": {
    "cell_style": "split"
   },
   "source": [
    "* MDAnalysis provides built-in analysis routines\n",
    "\n",
    "* Includes:\n",
    "  * RMSD, RMSF, MSD, contacts, diffusion, distances\n",
    "  * helix, leaflet, density, nucl info, pca, polymer\n",
    "  * and many more..."
   ]
  },
  {
   "cell_type": "code",
   "execution_count": 8,
   "id": "sealed-flexibility",
   "metadata": {
    "cell_style": "split"
   },
   "outputs": [
    {
     "data": {
      "text/plain": [
       "[<matplotlib.lines.Line2D at 0x7efe6cd84490>]"
      ]
     },
     "execution_count": 8,
     "metadata": {},
     "output_type": "execute_result"
    },
    {
     "data": {
      "image/png": "[encoded data removed]",
      "text/plain": [
       "<Figure size 432x288 with 1 Axes>"
      ]
     },
     "metadata": {
      "needs_background": "light"
     },
     "output_type": "display_data"
    }
   ],
   "source": [
    "from MDAnalysis.analysis import rms\n",
    "\n",
    "R = rms.RMSF(ace).run()\n",
    "\n",
    "plt.plot(ace.atoms.ids, R.rmsf)"
   ]
  },
  {
   "cell_type": "markdown",
   "id": "broke-validation",
   "metadata": {
    "slideshow": {
     "slide_type": "slide"
    }
   },
   "source": [
    "## Interactive visualisation"
   ]
  },
  {
   "cell_type": "markdown",
   "id": "italian-video",
   "metadata": {
    "cell_style": "split"
   },
   "source": [
    "* Can visualise MDAnalysis Universes and AtomGroups\n",
    "\n",
    "* Uses NGLView translation layer\n",
    "\n",
    "* Possible using jupyter notebooks"
   ]
  },
  {
   "cell_type": "code",
   "execution_count": 9,
   "id": "celtic-agenda",
   "metadata": {
    "cell_style": "split"
   },
   "outputs": [
    {
     "data": {
      "application/vnd.jupyter.widget-view+json": {
       "model_id": "a971ad59b76d4e45848eb995cd5e315c",
       "version_major": 2,
       "version_minor": 0
      },
      "text/plain": []
     },
     "metadata": {},
     "output_type": "display_data"
    },
    {
     "data": {
      "application/vnd.jupyter.widget-view+json": {
       "model_id": "1747664acceb43c7aad1624d44e3ba69",
       "version_major": 2,
       "version_minor": 0
      },
      "text/plain": [
       "NGLWidget(max_frame=9)"
      ]
     },
     "metadata": {},
     "output_type": "display_data"
    }
   ],
   "source": [
    "import nglview as nv\n",
    "\n",
    "protein = u.select_atoms('resname ACE')\n",
    "\n",
    "w = nv.show_mdanalysis(protein)\n",
    "w"
   ]
  },
  {
   "cell_type": "markdown",
   "id": "binary-inspection",
   "metadata": {
    "slideshow": {
     "slide_type": "slide"
    }
   },
   "source": [
    "## MDAnalysis and the interoperable future"
   ]
  },
  {
   "cell_type": "markdown",
   "id": "useful-marathon",
   "metadata": {},
   "source": [
    "* BioExcel + MOLSSI 2019: general lack of interoperability between molecular modelling software\n",
    "  * Duplication of efforts\n",
    "  * Homebrewed / untested conversions\n",
    "  * Bad format adherence\n",
    "  \n",
    "* MDAnalysis aims to pave the way towards an interoperable future\n",
    "  * Provide accurate translation layers to/from MDAnalysis datastructures to other packages\n",
    "  * Currently have layers for:\n",
    "    * Chemfiles\n",
    "    * ParmED\n",
    "    * RDKIT"
   ]
  },
  {
   "cell_type": "markdown",
   "id": "tamil-charter",
   "metadata": {
    "slideshow": {
     "slide_type": "slide"
    }
   },
   "source": [
    "## MDAnalysis + RDKIT interoperability (MDA -> RDKIT)"
   ]
  },
  {
   "cell_type": "markdown",
   "id": "inside-discipline",
   "metadata": {
    "cell_style": "split"
   },
   "source": [
    "* Seemless interagration between RDKIT and MDAnalysis\n",
    "  * Given you have hydrogens and bonds\n",
    "  \n",
    "* Allows for complex MD + cheminformatics analysis\n",
    "  * Already in use by industrial partners"
   ]
  },
  {
   "cell_type": "code",
   "execution_count": 10,
   "id": "efficient-tractor",
   "metadata": {
    "cell_style": "split"
   },
   "outputs": [
    {
     "name": "stdout",
     "output_type": "stream",
     "text": [
      "<RDKitReader with 10 frames of 9 atoms>\n"
     ]
    },
    {
     "data": {
      "image/png": "[encoded data removed]",
      "text/plain": [
       "<rdkit.Chem.rdchem.Mol at 0x7efe6c480da0>"
      ]
     },
     "execution_count": 10,
     "metadata": {},
     "output_type": "execute_result"
    }
   ],
   "source": [
    "# Create MDA universes from smiles\n",
    "u = mda.Universe.from_smiles('CCO', numConfs=10) \n",
    "print(u.trajectory)\n",
    "mol = u.atoms.convert_to('RDKIT')\n",
    "mol"
   ]
  },
  {
   "cell_type": "markdown",
   "id": "enclosed-pointer",
   "metadata": {
    "slideshow": {
     "slide_type": "slide"
    }
   },
   "source": [
    "## MDAnalysis + RDKIT interoperability (RDKIT -> MDA)"
   ]
  },
  {
   "cell_type": "code",
   "execution_count": 11,
   "id": "personal-tokyo",
   "metadata": {
    "cell_style": "split"
   },
   "outputs": [
    {
     "data": {
      "image/png": "[encoded data removed]",
      "text/plain": [
       "<rdkit.Chem.rdchem.Mol at 0x7efe6c48a5d0>"
      ]
     },
     "execution_count": 11,
     "metadata": {},
     "output_type": "execute_result"
    }
   ],
   "source": [
    "from rdkit import Chem\n",
    "\n",
    "mol = Chem.MolFromSequence('F')\n",
    "mol"
   ]
  },
  {
   "cell_type": "code",
   "execution_count": 12,
   "id": "monetary-wesley",
   "metadata": {
    "cell_style": "split"
   },
   "outputs": [
    {
     "name": "stderr",
     "output_type": "stream",
     "text": [
      "/home/bioc1523/github/mdanalysis/package/MDAnalysis/coordinates/RDKit.py:145: UserWarning: No coordinates found in the RDKit molecule\n",
      "  warnings.warn(\"No coordinates found in the RDKit molecule\")\n"
     ]
    },
    {
     "data": {
      "text/plain": [
       "<AtomGroup with 6 atoms>"
      ]
     },
     "execution_count": 12,
     "metadata": {},
     "output_type": "execute_result"
    }
   ],
   "source": [
    "u = mda.Universe(mol)\n",
    "u.select_atoms('aromatic')"
   ]
  },
  {
   "cell_type": "markdown",
   "id": "fitted-sewing",
   "metadata": {
    "slideshow": {
     "slide_type": "slide"
    }
   },
   "source": [
    "## MDAnalysis and the interoperable future"
   ]
  },
  {
   "cell_type": "markdown",
   "id": "practical-shopping",
   "metadata": {},
   "source": [
    "* Aim for 2021 to build\n",
    "  * QM code layers (ASE, psi4)\n",
    "  * MD code layers (OpenMM)\n",
    "  * Cross analysis layers (MDTraj, pytraj)"
   ]
  },
  {
   "cell_type": "markdown",
   "id": "introductory-moisture",
   "metadata": {
    "cell_style": "center",
    "slideshow": {
     "slide_type": "slide"
    }
   },
   "source": [
    "## Getting started with MDAnalysis"
   ]
  },
  {
   "cell_type": "markdown",
   "id": "limited-runner",
   "metadata": {
    "cell_style": "split"
   },
   "source": [
    "* Near-complete cross-platform compatibility\n",
    "  * No support for Apple M1 processors\n",
    "\n",
    "* Installable via `conda` or `pip`\n",
    "  * Support py2.7, py3.5->3.9\n",
    "  \n",
    "* Extensively documented in our userguide (inc. examples): https://userguide.mdanalysis.org/"
   ]
  },
  {
   "cell_type": "markdown",
   "id": "disciplinary-christian",
   "metadata": {
    "cell_style": "split",
    "slideshow": {
     "slide_type": "-"
    }
   },
   "source": [
    "<center><img src=\"imgs/MDA-userguide.png\" alt=\"github\" style=\"width: 700px;\"/></center>"
   ]
  },
  {
   "cell_type": "markdown",
   "id": "subtle-meter",
   "metadata": {
    "slideshow": {
     "slide_type": "slide"
    }
   },
   "source": [
    "## Getting involved"
   ]
  },
  {
   "cell_type": "markdown",
   "id": "pointed-release",
   "metadata": {
    "cell_style": "split"
   },
   "source": [
    "* Open source code on Github\n",
    "\n",
    "* We rely on community contributions!\n",
    "\n",
    "* Tackle existing issue or your own\n",
    "\n",
    "* Fully open contribution process\n",
    "  * Pull Request -> Review -> Merge\n",
    "\n",
    "* Developer mailing list:\n",
    "https://groups.google.com/forum/#!forum/mdnalysis-devel"
   ]
  },
  {
   "cell_type": "markdown",
   "id": "another-apartment",
   "metadata": {
    "cell_style": "split"
   },
   "source": [
    "<center><img src=\"imgs/MDA-github.png\" alt=\"github\" style=\"width: 700px;\"/></center>"
   ]
  },
  {
   "cell_type": "markdown",
   "id": "ruled-remark",
   "metadata": {
    "slideshow": {
     "slide_type": "slide"
    }
   },
   "source": [
    "## Google Summer of Code"
   ]
  },
  {
   "cell_type": "markdown",
   "id": "aboriginal-perry",
   "metadata": {
    "cell_style": "split",
    "slideshow": {
     "slide_type": "-"
    }
   },
   "source": [
    "* Google funded summer programme for students (inc. PhD students)\n",
    "  * 10 week (175 h) programming projects\n",
    "  * ~ $2000 stipend for students\n",
    "  \n",
    "* MDAnalysis usually takes on 1-2 students / year\n",
    "\n",
    "* Projects\n",
    "  * Bring your own project (recommended)\n",
    "  * Choose one of the MDAnalysis priority projects"
   ]
  },
  {
   "cell_type": "markdown",
   "id": "viral-writing",
   "metadata": {
    "cell_style": "split",
    "slideshow": {
     "slide_type": "-"
    }
   },
   "source": [
    "<center><img src=\"imgs/gsoc2016-sun-373x373.png\" alt=\"gsoc\" style=\"width: 300px;\"/></center>"
   ]
  },
  {
   "cell_type": "markdown",
   "id": "capable-newcastle",
   "metadata": {
    "slideshow": {
     "slide_type": "slide"
    }
   },
   "source": [
    "## Google Summer of Code"
   ]
  },
  {
   "cell_type": "markdown",
   "id": "viral-bible",
   "metadata": {
    "cell_style": "split"
   },
   "source": [
    "* More details: https://github.com/MDAnalysis/mdanalysis/wiki/Project-Ideas-2021\n",
    "\n",
    "* Application process:\n",
    "  * Community introduction\n",
    "  * Merge 1 code contribution\n",
    "  * Submit a project proposal"
   ]
  },
  {
   "cell_type": "markdown",
   "id": "american-endorsement",
   "metadata": {
    "cell_style": "split"
   },
   "source": [
    "<center><img src=\"imgs/gsoc2016-sun-373x373.png\" alt=\"gsoc\" style=\"width: 300px;\"/></center>"
   ]
  },
  {
   "cell_type": "code",
   "execution_count": null,
   "id": "focal-winning",
   "metadata": {
    "slideshow": {
     "slide_type": "skip"
    }
   },
   "outputs": [],
   "source": []
  }
 ],
 "metadata": {
  "celltoolbar": "Slideshow",
  "kernelspec": {
   "display_name": "Python 3",
   "language": "python",
   "name": "python3"
  },
  "language_info": {
   "codemirror_mode": {
    "name": "ipython",
    "version": 3
   },
   "file_extension": ".py",
   "mimetype": "text/x-python",
   "name": "python",
   "nbconvert_exporter": "python",
   "pygments_lexer": "ipython3",
   "version": "3.7.9"
  }
 },
 "nbformat": 4,
 "nbformat_minor": 5
}
